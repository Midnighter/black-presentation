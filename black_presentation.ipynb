{
 "cells": [
  {
   "cell_type": "markdown",
   "id": "0847e3a8",
   "metadata": {
    "slideshow": {
     "slide_type": "slide"
    }
   },
   "source": [
    "<img src=\"images/black_logo.png\" width=\"60%\" style=\"margin-left:auto; margin-right:auto;\" />\n",
    "\n",
    "_Any color you like_\n",
    "\n",
    "Moritz E. Beber\n",
    "\n",
    "PyData Copenhagen, 2021-09-02"
   ]
  },
  {
   "cell_type": "markdown",
   "id": "3eba337f",
   "metadata": {
    "slideshow": {
     "slide_type": "slide"
    }
   },
   "source": [
    "## What is _Black_?\n",
    "\n",
    "> _Black_ is a PEP 8 compliant opinionated formatter with its own style.\n",
    "    "
   ]
  },
  {
   "cell_type": "markdown",
   "id": "5afa75fe",
   "metadata": {
    "slideshow": {
     "slide_type": "subslide"
    }
   },
   "source": [
    "### What is it good for?\n",
    "\n",
    "* Automated code formatting\n",
    "* Consistent style\n",
    "* Fast\n",
    "* Ideal for team work and community contributions"
   ]
  },
  {
   "cell_type": "markdown",
   "id": "bedea7e9",
   "metadata": {
    "slideshow": {
     "slide_type": "slide"
    }
   },
   "source": [
    "## Learn to let go\n",
    "\n",
    "![Image is public domain and taken from https://images.pexels.com/photos/262279/pexels-photo-262279.jpeg.](images/let_go.jpeg)"
   ]
  },
  {
   "cell_type": "markdown",
   "id": "624a856c",
   "metadata": {
    "slideshow": {
     "slide_type": "subslide"
    }
   },
   "source": [
    "#### If you don't care about code formatting\n",
    "\n",
    "Great, you're in a good place. You have nothing to lose by adopting _Black_\n",
    "\n",
    "#### If you hate _Black_'s formatting and prefer to do it manually\n",
    "\n",
    "* Then this tool is for exactly you!\n",
    "* If you care deeply, you will spend time and mental energy on formatting - don't!\n",
    "* Free yourself from this burden, think about solving problems instead."
   ]
  },
  {
   "cell_type": "markdown",
   "id": "f1a43cea",
   "metadata": {
    "slideshow": {
     "slide_type": "slide"
    }
   },
   "source": [
    "## Demo\n",
    "\n",
    "* Use _Black_ to format Python 3 code\n",
    "    ```\n",
    "    pip install black\n",
    "    ```\n",
    "* Use `nb_black` to format code in Jupyter notebook/lab\n",
    "    ```\n",
    "    pip install nb_black\n",
    "    ```\n",
    "* Use _Black_ to format notebooks (released four days ago!)\n",
    "    ```\n",
    "    pip install black[jupyter]\n",
    "    ```\n",
    "* Use _Black_ in PyCharm with BlackConnect\n",
    "    ```\n",
    "    pip install black[d]\n",
    "    ```\n",
    "* Use _Black_ to format legacy code\n",
    "    ```\n",
    "    pip install black[python2]\n",
    "    ```"
   ]
  }
 ],
 "metadata": {
  "celltoolbar": "Slideshow",
  "kernelspec": {
   "display_name": "Python 3 (ipykernel)",
   "language": "python",
   "name": "python3"
  },
  "language_info": {
   "codemirror_mode": {
    "name": "ipython",
    "version": 3
   },
   "file_extension": ".py",
   "mimetype": "text/x-python",
   "name": "python",
   "nbconvert_exporter": "python",
   "pygments_lexer": "ipython3",
   "version": "3.8.10"
  }
 },
 "nbformat": 4,
 "nbformat_minor": 5
}
