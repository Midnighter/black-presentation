{
 "cells": [
  {
   "cell_type": "code",
   "execution_count": 1,
   "id": "fff697e3-b72d-429e-b114-2c05a8bfd0e4",
   "metadata": {},
   "outputs": [],
   "source": [
    "%load_ext lab_black"
   ]
  },
  {
   "cell_type": "raw",
   "id": "3506960b-fd0e-4968-8518-ebf41b4773b4",
   "metadata": {},
   "source": [
    "%load_ext nb_black"
   ]
  },
  {
   "cell_type": "code",
   "execution_count": 2,
   "id": "0efebb81-aa8e-4f6f-bb15-153dbc4d27e3",
   "metadata": {},
   "outputs": [],
   "source": [
    "import pandas as pd"
   ]
  },
  {
   "cell_type": "code",
   "execution_count": 3,
   "id": "e0bbbaf6-9e85-4eb7-991f-622dd066adf1",
   "metadata": {},
   "outputs": [],
   "source": [
    "table = pd.DataFrame({\"col1\": \"constant\", \"col2\": range(20), \"col3\": \"is really long, I think\"})"
   ]
  },
  {
   "cell_type": "code",
   "execution_count": null,
   "id": "c304fe1c-45db-4395-ab96-9a2795649af7",
   "metadata": {},
   "outputs": [],
   "source": []
  }
 ],
 "metadata": {
  "kernelspec": {
   "display_name": "Python 3 (ipykernel)",
   "language": "python",
   "name": "python3"
  },
  "language_info": {
   "codemirror_mode": {
    "name": "ipython",
    "version": 3
   },
   "file_extension": ".py",
   "mimetype": "text/x-python",
   "name": "python",
   "nbconvert_exporter": "python",
   "pygments_lexer": "ipython3",
   "version": "3.8.10"
  }
 },
 "nbformat": 4,
 "nbformat_minor": 5
}
